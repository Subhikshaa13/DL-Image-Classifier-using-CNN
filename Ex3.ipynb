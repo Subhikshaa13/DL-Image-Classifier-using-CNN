{
  "nbformat": 4,
  "nbformat_minor": 0,
  "metadata": {
    "colab": {
      "provenance": []
    },
    "kernelspec": {
      "name": "python3",
      "display_name": "Python 3"
    },
    "language_info": {
      "name": "python"
    }
  },
  "cells": [
    {
      "cell_type": "code",
      "execution_count": null,
      "metadata": {
        "id": "N6bMCxYrkY6r"
      },
      "outputs": [],
      "source": [
        "import torch\n",
        "import torch.nn as nn\n",
        "import torch.nn.functional as F\n",
        "from torch.utils.data import DataLoader\n",
        "from torchvision import datasets, transforms\n",
        "from torchvision.utils import make_grid\n",
        "\n",
        "import numpy as np\n",
        "import pandas as pd\n",
        "from sklearn.metrics import confusion_matrix\n",
        "import matplotlib.pyplot as plt\n",
        "%matplotlib inline"
      ]
    },
    {
      "cell_type": "markdown",
      "source": [
        "Subhikshaa\n",
        "\n",
        "212222230151"
      ],
      "metadata": {
        "id": "o7Xe5vMkmq4F"
      }
    },
    {
      "cell_type": "code",
      "source": [
        "transform = transforms.ToTensor()"
      ],
      "metadata": {
        "id": "j8RXF4BRknBw"
      },
      "execution_count": null,
      "outputs": []
    },
    {
      "cell_type": "code",
      "source": [
        "train_data = datasets.MNIST(root='../Data', train=True, download=True, transform=transform)"
      ],
      "metadata": {
        "id": "QwNCL6BHkzlp",
        "colab": {
          "base_uri": "https://localhost:8080/"
        },
        "outputId": "94199434-8ce3-4964-f6ec-2caf9f116981"
      },
      "execution_count": null,
      "outputs": [
        {
          "output_type": "stream",
          "name": "stderr",
          "text": [
            "100%|██████████| 9.91M/9.91M [00:00<00:00, 15.9MB/s]\n",
            "100%|██████████| 28.9k/28.9k [00:00<00:00, 478kB/s]\n",
            "100%|██████████| 1.65M/1.65M [00:00<00:00, 3.79MB/s]\n",
            "100%|██████████| 4.54k/4.54k [00:00<00:00, 4.25MB/s]\n"
          ]
        }
      ]
    },
    {
      "cell_type": "code",
      "source": [
        "test_data = datasets.MNIST(root='../Data', train=False, download=True, transform=transform)"
      ],
      "metadata": {
        "id": "KZ_osbgAk8-m"
      },
      "execution_count": null,
      "outputs": []
    },
    {
      "cell_type": "code",
      "source": [
        "train_data"
      ],
      "metadata": {
        "colab": {
          "base_uri": "https://localhost:8080/"
        },
        "id": "9uJLRVb5lA4B",
        "outputId": "33096fd8-86fb-454e-dbcc-27f7f7f7f358"
      },
      "execution_count": null,
      "outputs": [
        {
          "output_type": "execute_result",
          "data": {
            "text/plain": [
              "Dataset MNIST\n",
              "    Number of datapoints: 60000\n",
              "    Root location: ../Data\n",
              "    Split: Train\n",
              "    StandardTransform\n",
              "Transform: ToTensor()"
            ]
          },
          "metadata": {},
          "execution_count": 5
        }
      ]
    },
    {
      "cell_type": "code",
      "source": [
        "test_data"
      ],
      "metadata": {
        "colab": {
          "base_uri": "https://localhost:8080/"
        },
        "id": "4iCx_yjNlEjP",
        "outputId": "242d759c-d6b2-4cc5-a0dc-2a57b3f9141a"
      },
      "execution_count": null,
      "outputs": [
        {
          "output_type": "execute_result",
          "data": {
            "text/plain": [
              "Dataset MNIST\n",
              "    Number of datapoints: 10000\n",
              "    Root location: ../Data\n",
              "    Split: Test\n",
              "    StandardTransform\n",
              "Transform: ToTensor()"
            ]
          },
          "metadata": {},
          "execution_count": 6
        }
      ]
    },
    {
      "cell_type": "code",
      "source": [
        "train_loader = DataLoader(train_data, batch_size=10, shuffle=True)\n",
        "test_loader = DataLoader(test_data, batch_size=10, shuffle=False)"
      ],
      "metadata": {
        "id": "oxEX7jzGlJsH"
      },
      "execution_count": null,
      "outputs": []
    },
    {
      "cell_type": "code",
      "source": [
        "class ConvolutionalNetwork(nn.Module):\n",
        "\n",
        "    def __init__(self):\n",
        "        super().__init__()\n",
        "        self.conv1 = nn.Conv2d(1,6,3,1)\n",
        "        self.conv2 = nn.Conv2d(6,16,3,1)\n",
        "        self.fc1 = nn.Linear(5*5*16,120)\n",
        "        self.fc2 = nn.Linear(120,84)\n",
        "        self.fc3 = nn.Linear(84,10)\n",
        "\n",
        "    def forward(self, X):\n",
        "        X = F.relu(self.conv1(X))\n",
        "        X = F.max_pool2d(X, 2, 2)\n",
        "        X = F.relu(self.conv2(X))\n",
        "        X = F.max_pool2d(X, 2, 2)\n",
        "        X = X.view(-1, 5*5*16)\n",
        "        X = F.relu(self.fc1(X))\n",
        "        X = F.relu(self.fc2(X))\n",
        "        X = self.fc3(X)\n",
        "        return F.log_softmax(X, dim=1)\n"
      ],
      "metadata": {
        "id": "7jsdV6jVlLnq"
      },
      "execution_count": null,
      "outputs": []
    },
    {
      "cell_type": "code",
      "source": [
        "criterion = nn.CrossEntropyLoss()\n",
        "model = ConvolutionalNetwork()\n",
        "optimizer = torch.optim.Adam(model.parameters(), lr=0.001)"
      ],
      "metadata": {
        "id": "8wC2XGgblNpR"
      },
      "execution_count": null,
      "outputs": []
    },
    {
      "cell_type": "code",
      "source": [
        "import time\n",
        "start_time = time.time()\n",
        "\n",
        "# Variables ( Trackers)\n",
        "epochs = 5\n",
        "train_losses = []\n",
        "test_losses = []\n",
        "train_correct = []\n",
        "test_correct = []\n",
        "\n",
        "# for loop epochs\n",
        "for i in range(epochs):\n",
        "\n",
        "    trn_corr = 0\n",
        "    tst_corr = 0\n",
        "\n",
        "\n",
        "    # Run the training batches\n",
        "    for b, (X_train, y_train) in enumerate(train_loader):\n",
        "        b+=1\n",
        "\n",
        "        # Apply the model\n",
        "        y_pred = model(X_train)  # we not flatten X-train here\n",
        "        loss = criterion(y_pred, y_train)\n",
        "\n",
        "\n",
        "        predicted = torch.max(y_pred.data, 1)[1]\n",
        "        batch_corr = (predicted == y_train).sum()  # Trure 1 / False 0 sum()\n",
        "        trn_corr += batch_corr\n",
        "\n",
        "        # Update parameters\n",
        "        optimizer.zero_grad()\n",
        "        loss.backward()\n",
        "        optimizer.step()\n",
        "\n",
        "        # Print interim results\n",
        "        if b%600 == 0:\n",
        "            print(f'epoch: {i}  batch: {b} loss: {loss.item()}')\n",
        "\n",
        "    train_losses.append(loss)\n",
        "    train_correct.append(trn_corr)\n",
        "\n",
        "    # Run the testing batches\n",
        "    with torch.no_grad():\n",
        "        for b, (X_test, y_test) in enumerate(test_loader):\n",
        "\n",
        "            # Apply the model\n",
        "            y_val = model(X_test)\n",
        "\n",
        "            # Tally the number of correct predictions\n",
        "            predicted = torch.max(y_val.data, 1)[1]\n",
        "            tst_corr += (predicted == y_test).sum()\n",
        "\n",
        "    loss = criterion(y_val, y_test)\n",
        "    test_losses.append(loss)\n",
        "    test_correct.append(tst_corr)\n",
        "\n",
        "current_time = time.time()\n",
        "total = current_time - start_time\n",
        "print(f'Training took {total/60} minutes')"
      ],
      "metadata": {
        "colab": {
          "base_uri": "https://localhost:8080/"
        },
        "id": "_PRAzknQlPvf",
        "outputId": "44f9e485-fffd-4bd9-9cc1-46c5965a4096"
      },
      "execution_count": null,
      "outputs": [
        {
          "output_type": "stream",
          "name": "stdout",
          "text": [
            "epoch: 0  batch: 600 loss: 0.1459471881389618\n",
            "epoch: 0  batch: 1200 loss: 0.06967952102422714\n",
            "epoch: 0  batch: 1800 loss: 0.14950859546661377\n",
            "epoch: 0  batch: 2400 loss: 0.045757655054330826\n",
            "epoch: 0  batch: 3000 loss: 0.0014452130999416113\n",
            "epoch: 0  batch: 3600 loss: 0.03154974430799484\n",
            "epoch: 0  batch: 4200 loss: 0.01407431997358799\n",
            "epoch: 0  batch: 4800 loss: 0.00510692922398448\n",
            "epoch: 0  batch: 5400 loss: 0.025010880082845688\n",
            "epoch: 0  batch: 6000 loss: 0.001146232825703919\n",
            "epoch: 1  batch: 600 loss: 0.09219978749752045\n",
            "epoch: 1  batch: 1200 loss: 0.0054785688407719135\n",
            "epoch: 1  batch: 1800 loss: 0.004062710329890251\n",
            "epoch: 1  batch: 2400 loss: 0.04620661213994026\n",
            "epoch: 1  batch: 3000 loss: 0.0019375968258827925\n",
            "epoch: 1  batch: 3600 loss: 0.003980021923780441\n",
            "epoch: 1  batch: 4200 loss: 0.03420852869749069\n",
            "epoch: 1  batch: 4800 loss: 0.019638564437627792\n",
            "epoch: 1  batch: 5400 loss: 0.0008226926438510418\n",
            "epoch: 1  batch: 6000 loss: 0.0014351934660226107\n",
            "epoch: 2  batch: 600 loss: 0.0005505500594154\n",
            "epoch: 2  batch: 1200 loss: 0.0007254900992847979\n",
            "epoch: 2  batch: 1800 loss: 0.007601193152368069\n",
            "epoch: 2  batch: 2400 loss: 0.0010167965665459633\n",
            "epoch: 2  batch: 3000 loss: 0.02908811904489994\n",
            "epoch: 2  batch: 3600 loss: 0.6528643369674683\n",
            "epoch: 2  batch: 4200 loss: 0.01645446941256523\n",
            "epoch: 2  batch: 4800 loss: 0.0005157034611329436\n",
            "epoch: 2  batch: 5400 loss: 0.41411083936691284\n",
            "epoch: 2  batch: 6000 loss: 0.35128313302993774\n",
            "epoch: 3  batch: 600 loss: 7.840467151254416e-05\n",
            "epoch: 3  batch: 1200 loss: 0.0011906379368156195\n",
            "epoch: 3  batch: 1800 loss: 0.0012777427909895778\n",
            "epoch: 3  batch: 2400 loss: 0.06840311735868454\n",
            "epoch: 3  batch: 3000 loss: 0.0003212971496395767\n",
            "epoch: 3  batch: 3600 loss: 0.00037432348472066224\n",
            "epoch: 3  batch: 4200 loss: 0.004384065046906471\n",
            "epoch: 3  batch: 4800 loss: 0.0022578653879463673\n",
            "epoch: 3  batch: 5400 loss: 0.007789541035890579\n",
            "epoch: 3  batch: 6000 loss: 5.6286567996721715e-05\n",
            "epoch: 4  batch: 600 loss: 0.004465322010219097\n",
            "epoch: 4  batch: 1200 loss: 0.0007238975376822054\n",
            "epoch: 4  batch: 1800 loss: 0.0015952668618410826\n",
            "epoch: 4  batch: 2400 loss: 0.007455493323504925\n",
            "epoch: 4  batch: 3000 loss: 0.5519059896469116\n",
            "epoch: 4  batch: 3600 loss: 0.0013664050493389368\n",
            "epoch: 4  batch: 4200 loss: 1.4495524737867527e-05\n",
            "epoch: 4  batch: 4800 loss: 1.934662759595085e-05\n",
            "epoch: 4  batch: 5400 loss: 6.776684313081205e-05\n",
            "epoch: 4  batch: 6000 loss: 0.017116151750087738\n",
            "Training took 4.069348216056824 minutes\n"
          ]
        }
      ]
    },
    {
      "cell_type": "code",
      "source": [
        "train_losses = [t.detach().numpy() for t in train_losses]\n",
        "test_losses = [t.detach().numpy() for t in test_losses]\n",
        "\n",
        "plt.plot(train_losses, label='training loss')\n",
        "plt.plot(test_losses, label='validation loss')\n",
        "plt.title('Loss at the end of each epoch')\n",
        "plt.legend();\n",
        "plt.show()"
      ],
      "metadata": {
        "id": "OvHsdcssmCfl",
        "outputId": "b5b3672a-828d-4672-edb6-57a4b2e0b73b",
        "colab": {
          "base_uri": "https://localhost:8080/",
          "height": 452
        }
      },
      "execution_count": null,
      "outputs": [
        {
          "output_type": "display_data",
          "data": {
            "text/plain": [
              "<Figure size 640x480 with 1 Axes>"
            ],
            "image/png": "[encoded data removed]"
          },
          "metadata": {}
        }
      ]
    },
    {
      "cell_type": "code",
      "source": [
        "plt.plot([t/600 for t in train_correct], label='training accuracy')\n",
        "plt.plot([t/100 for t in test_correct], label='validation accuracy')\n",
        "plt.title('Accuracy at the end of each epoch')\n",
        "plt.legend();\n",
        "plt.show()"
      ],
      "metadata": {
        "id": "rDCS0nJxmbzk",
        "outputId": "44730b5a-9cef-4ac1-b23f-22906f44acdd",
        "colab": {
          "base_uri": "https://localhost:8080/",
          "height": 452
        }
      },
      "execution_count": null,
      "outputs": [
        {
          "output_type": "display_data",
          "data": {
            "text/plain": [
              "<Figure size 640x480 with 1 Axes>"
            ],
            "image/png": "[encoded data removed]"
          },
          "metadata": {}
        }
      ]
    },
    {
      "cell_type": "code",
      "source": [
        "np.set_printoptions(formatter=dict(int=lambda x: f'{x:4}'))\n",
        "print(np.arange(10).reshape(1,10))\n",
        "print()\n",
        "\n",
        "print(confusion_matrix(predicted.view(-1), y_test.view(-1)))"
      ],
      "metadata": {
        "id": "dYAyCz5XminH",
        "outputId": "94ac341c-4c87-4b54-dc6d-c3f43a6dc8e3",
        "colab": {
          "base_uri": "https://localhost:8080/"
        }
      },
      "execution_count": null,
      "outputs": [
        {
          "output_type": "stream",
          "name": "stdout",
          "text": [
            "[[   0    1    2    3    4    5    6    7    8    9]]\n",
            "\n",
            "[[   1    0    0    0    0    0    0    0    0    0]\n",
            " [   0    1    0    0    0    0    0    0    0    0]\n",
            " [   0    0    1    0    0    0    0    0    0    0]\n",
            " [   0    0    0    1    0    0    0    0    0    0]\n",
            " [   0    0    0    0    1    0    0    0    0    0]\n",
            " [   0    0    0    0    0    1    0    0    0    0]\n",
            " [   0    0    0    0    0    0    1    0    0    0]\n",
            " [   0    0    0    0    0    0    0    1    0    0]\n",
            " [   0    0    0    0    0    0    0    0    1    0]\n",
            " [   0    0    0    0    0    0    0    0    0    1]]\n"
          ]
        }
      ]
    },
    {
      "cell_type": "code",
      "source": [
        "torch.save(model.state_dict(),'Subhikshaa M.pt')"
      ],
      "metadata": {
        "id": "fBaQk9sXmjKS"
      },
      "execution_count": null,
      "outputs": []
    },
    {
      "cell_type": "code",
      "source": [],
      "metadata": {
        "id": "vGTpvsTym6ZH"
      },
      "execution_count": null,
      "outputs": []
    }
  ]
}